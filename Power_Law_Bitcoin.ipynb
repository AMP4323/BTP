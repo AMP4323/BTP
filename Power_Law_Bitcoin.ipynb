{
  "nbformat": 4,
  "nbformat_minor": 0,
  "metadata": {
    "colab": {
      "name": "Power Law Bitcoin",
      "provenance": [],
      "collapsed_sections": [],
      "include_colab_link": true
    },
    "kernelspec": {
      "name": "python3",
      "display_name": "Python 3"
    },
    "language_info": {
      "name": "python"
    }
  },
  "cells": [
    {
      "cell_type": "markdown",
      "metadata": {
        "id": "view-in-github",
        "colab_type": "text"
      },
      "source": [
        "<a href=\"https://colab.research.google.com/github/AMP4323/BTP/blob/main/Power_Law_Bitcoin.ipynb\" target=\"_parent\"><img src=\"https://colab.research.google.com/assets/colab-badge.svg\" alt=\"Open In Colab\"/></a>"
      ]
    },
    {
      "cell_type": "code",
      "metadata": {
        "id": "QCxAvqH67gTm"
      },
      "source": [
        "import pandas as pd\n",
        "import time\n",
        "import seaborn as sns\n",
        "import matplotlib.pyplot as plt\n",
        "import datetime\n",
        "import numpy as np"
      ],
      "execution_count": null,
      "outputs": []
    },
    {
      "cell_type": "code",
      "metadata": {
        "colab": {
          "base_uri": "https://localhost:8080/",
          "height": 423
        },
        "id": "WGzSZqdNmK7T",
        "outputId": "a0728ad0-367e-433c-84cd-5ca52e0a410e"
      },
      "source": [
        "url = 'https://raw.githubusercontent.com/AMP4323/BTP/main/Bitcoin%20Historical%20Data%20-%20Investing.com%20India%20(1).csv'\n",
        "\n",
        "df = pd.read_csv(url, header=None, names=['Date',\t'Price',\t'Open',\t'High',\t'Low',\t'Volume',\t'ChangePercentage'])\n",
        "df =df.drop(0)\n",
        "df"
      ],
      "execution_count": null,
      "outputs": [
        {
          "output_type": "execute_result",
          "data": {
            "text/html": [
              "<div>\n",
              "<style scoped>\n",
              "    .dataframe tbody tr th:only-of-type {\n",
              "        vertical-align: middle;\n",
              "    }\n",
              "\n",
              "    .dataframe tbody tr th {\n",
              "        vertical-align: top;\n",
              "    }\n",
              "\n",
              "    .dataframe thead th {\n",
              "        text-align: right;\n",
              "    }\n",
              "</style>\n",
              "<table border=\"1\" class=\"dataframe\">\n",
              "  <thead>\n",
              "    <tr style=\"text-align: right;\">\n",
              "      <th></th>\n",
              "      <th>Date</th>\n",
              "      <th>Price</th>\n",
              "      <th>Open</th>\n",
              "      <th>High</th>\n",
              "      <th>Low</th>\n",
              "      <th>Volume</th>\n",
              "      <th>ChangePercentage</th>\n",
              "    </tr>\n",
              "  </thead>\n",
              "  <tbody>\n",
              "    <tr>\n",
              "      <th>1</th>\n",
              "      <td>Nov 28, 2021</td>\n",
              "      <td>54,389.3</td>\n",
              "      <td>54,758.0</td>\n",
              "      <td>54,924.1</td>\n",
              "      <td>53,735.6</td>\n",
              "      <td>37.72K</td>\n",
              "      <td>-0.69%</td>\n",
              "    </tr>\n",
              "    <tr>\n",
              "      <th>2</th>\n",
              "      <td>Nov 27, 2021</td>\n",
              "      <td>54,765.9</td>\n",
              "      <td>53,747.2</td>\n",
              "      <td>55,280.3</td>\n",
              "      <td>53,654.3</td>\n",
              "      <td>40.71K</td>\n",
              "      <td>1.93%</td>\n",
              "    </tr>\n",
              "    <tr>\n",
              "      <th>3</th>\n",
              "      <td>Nov 26, 2021</td>\n",
              "      <td>53,730.9</td>\n",
              "      <td>58,937.3</td>\n",
              "      <td>59,151.1</td>\n",
              "      <td>53,533.5</td>\n",
              "      <td>104.03K</td>\n",
              "      <td>-8.83%</td>\n",
              "    </tr>\n",
              "    <tr>\n",
              "      <th>4</th>\n",
              "      <td>Nov 25, 2021</td>\n",
              "      <td>58,935.1</td>\n",
              "      <td>57,167.1</td>\n",
              "      <td>59,387.3</td>\n",
              "      <td>57,029.8</td>\n",
              "      <td>56.79K</td>\n",
              "      <td>3.08%</td>\n",
              "    </tr>\n",
              "    <tr>\n",
              "      <th>5</th>\n",
              "      <td>Nov 24, 2021</td>\n",
              "      <td>57,171.7</td>\n",
              "      <td>57,559.4</td>\n",
              "      <td>57,697.4</td>\n",
              "      <td>55,910.6</td>\n",
              "      <td>56.68K</td>\n",
              "      <td>-0.70%</td>\n",
              "    </tr>\n",
              "    <tr>\n",
              "      <th>...</th>\n",
              "      <td>...</td>\n",
              "      <td>...</td>\n",
              "      <td>...</td>\n",
              "      <td>...</td>\n",
              "      <td>...</td>\n",
              "      <td>...</td>\n",
              "      <td>...</td>\n",
              "    </tr>\n",
              "    <tr>\n",
              "      <th>4148</th>\n",
              "      <td>Jul 22, 2010</td>\n",
              "      <td>0.1</td>\n",
              "      <td>0.1</td>\n",
              "      <td>0.1</td>\n",
              "      <td>0.1</td>\n",
              "      <td>2.16K</td>\n",
              "      <td>0.00%</td>\n",
              "    </tr>\n",
              "    <tr>\n",
              "      <th>4149</th>\n",
              "      <td>Jul 21, 2010</td>\n",
              "      <td>0.1</td>\n",
              "      <td>0.1</td>\n",
              "      <td>0.1</td>\n",
              "      <td>0.1</td>\n",
              "      <td>0.58K</td>\n",
              "      <td>0.00%</td>\n",
              "    </tr>\n",
              "    <tr>\n",
              "      <th>4150</th>\n",
              "      <td>Jul 20, 2010</td>\n",
              "      <td>0.1</td>\n",
              "      <td>0.1</td>\n",
              "      <td>0.1</td>\n",
              "      <td>0.1</td>\n",
              "      <td>0.26K</td>\n",
              "      <td>0.00%</td>\n",
              "    </tr>\n",
              "    <tr>\n",
              "      <th>4151</th>\n",
              "      <td>Jul 19, 2010</td>\n",
              "      <td>0.1</td>\n",
              "      <td>0.1</td>\n",
              "      <td>0.1</td>\n",
              "      <td>0.1</td>\n",
              "      <td>0.57K</td>\n",
              "      <td>0.00%</td>\n",
              "    </tr>\n",
              "    <tr>\n",
              "      <th>4152</th>\n",
              "      <td>Jul 18, 2010</td>\n",
              "      <td>0.1</td>\n",
              "      <td>0.0</td>\n",
              "      <td>0.1</td>\n",
              "      <td>0.1</td>\n",
              "      <td>0.08K</td>\n",
              "      <td>0.00%</td>\n",
              "    </tr>\n",
              "  </tbody>\n",
              "</table>\n",
              "<p>4152 rows × 7 columns</p>\n",
              "</div>"
            ],
            "text/plain": [
              "              Date     Price      Open  ...       Low   Volume ChangePercentage\n",
              "1     Nov 28, 2021  54,389.3  54,758.0  ...  53,735.6   37.72K           -0.69%\n",
              "2     Nov 27, 2021  54,765.9  53,747.2  ...  53,654.3   40.71K            1.93%\n",
              "3     Nov 26, 2021  53,730.9  58,937.3  ...  53,533.5  104.03K           -8.83%\n",
              "4     Nov 25, 2021  58,935.1  57,167.1  ...  57,029.8   56.79K            3.08%\n",
              "5     Nov 24, 2021  57,171.7  57,559.4  ...  55,910.6   56.68K           -0.70%\n",
              "...            ...       ...       ...  ...       ...      ...              ...\n",
              "4148  Jul 22, 2010       0.1       0.1  ...       0.1    2.16K            0.00%\n",
              "4149  Jul 21, 2010       0.1       0.1  ...       0.1    0.58K            0.00%\n",
              "4150  Jul 20, 2010       0.1       0.1  ...       0.1    0.26K            0.00%\n",
              "4151  Jul 19, 2010       0.1       0.1  ...       0.1    0.57K            0.00%\n",
              "4152  Jul 18, 2010       0.1       0.0  ...       0.1    0.08K            0.00%\n",
              "\n",
              "[4152 rows x 7 columns]"
            ]
          },
          "metadata": {},
          "execution_count": 103
        }
      ]
    },
    {
      "cell_type": "code",
      "metadata": {
        "colab": {
          "base_uri": "https://localhost:8080/",
          "height": 423
        },
        "id": "-G2gDnLu8HhD",
        "outputId": "aad5922a-5178-4815-a368-43fe15d3da49"
      },
      "source": [
        "df['Price'] = df['Price'].str.replace(',', '')\n",
        "df['Price'] = df['Price'].astype('float64')\n",
        "df['Open'] = df['Open'].str.replace(',', '')\n",
        "df['Open'] = df['Open'].astype('float64')\n",
        "df['High'] = df['High'].str.replace(',', '')\n",
        "df['High'] = df['High'].astype('float64')\n",
        "df['Low'] = df['Low'].str.replace(',', '')\n",
        "df['Low'] = df['Low'].astype('float64')\n",
        "df"
      ],
      "execution_count": null,
      "outputs": [
        {
          "output_type": "execute_result",
          "data": {
            "text/html": [
              "<div>\n",
              "<style scoped>\n",
              "    .dataframe tbody tr th:only-of-type {\n",
              "        vertical-align: middle;\n",
              "    }\n",
              "\n",
              "    .dataframe tbody tr th {\n",
              "        vertical-align: top;\n",
              "    }\n",
              "\n",
              "    .dataframe thead th {\n",
              "        text-align: right;\n",
              "    }\n",
              "</style>\n",
              "<table border=\"1\" class=\"dataframe\">\n",
              "  <thead>\n",
              "    <tr style=\"text-align: right;\">\n",
              "      <th></th>\n",
              "      <th>Date</th>\n",
              "      <th>Price</th>\n",
              "      <th>Open</th>\n",
              "      <th>High</th>\n",
              "      <th>Low</th>\n",
              "      <th>Volume</th>\n",
              "      <th>ChangePercentage</th>\n",
              "    </tr>\n",
              "  </thead>\n",
              "  <tbody>\n",
              "    <tr>\n",
              "      <th>1</th>\n",
              "      <td>Nov 28, 2021</td>\n",
              "      <td>54389.3</td>\n",
              "      <td>54758.0</td>\n",
              "      <td>54924.1</td>\n",
              "      <td>53735.6</td>\n",
              "      <td>37.72K</td>\n",
              "      <td>-0.69%</td>\n",
              "    </tr>\n",
              "    <tr>\n",
              "      <th>2</th>\n",
              "      <td>Nov 27, 2021</td>\n",
              "      <td>54765.9</td>\n",
              "      <td>53747.2</td>\n",
              "      <td>55280.3</td>\n",
              "      <td>53654.3</td>\n",
              "      <td>40.71K</td>\n",
              "      <td>1.93%</td>\n",
              "    </tr>\n",
              "    <tr>\n",
              "      <th>3</th>\n",
              "      <td>Nov 26, 2021</td>\n",
              "      <td>53730.9</td>\n",
              "      <td>58937.3</td>\n",
              "      <td>59151.1</td>\n",
              "      <td>53533.5</td>\n",
              "      <td>104.03K</td>\n",
              "      <td>-8.83%</td>\n",
              "    </tr>\n",
              "    <tr>\n",
              "      <th>4</th>\n",
              "      <td>Nov 25, 2021</td>\n",
              "      <td>58935.1</td>\n",
              "      <td>57167.1</td>\n",
              "      <td>59387.3</td>\n",
              "      <td>57029.8</td>\n",
              "      <td>56.79K</td>\n",
              "      <td>3.08%</td>\n",
              "    </tr>\n",
              "    <tr>\n",
              "      <th>5</th>\n",
              "      <td>Nov 24, 2021</td>\n",
              "      <td>57171.7</td>\n",
              "      <td>57559.4</td>\n",
              "      <td>57697.4</td>\n",
              "      <td>55910.6</td>\n",
              "      <td>56.68K</td>\n",
              "      <td>-0.70%</td>\n",
              "    </tr>\n",
              "    <tr>\n",
              "      <th>...</th>\n",
              "      <td>...</td>\n",
              "      <td>...</td>\n",
              "      <td>...</td>\n",
              "      <td>...</td>\n",
              "      <td>...</td>\n",
              "      <td>...</td>\n",
              "      <td>...</td>\n",
              "    </tr>\n",
              "    <tr>\n",
              "      <th>4148</th>\n",
              "      <td>Jul 22, 2010</td>\n",
              "      <td>0.1</td>\n",
              "      <td>0.1</td>\n",
              "      <td>0.1</td>\n",
              "      <td>0.1</td>\n",
              "      <td>2.16K</td>\n",
              "      <td>0.00%</td>\n",
              "    </tr>\n",
              "    <tr>\n",
              "      <th>4149</th>\n",
              "      <td>Jul 21, 2010</td>\n",
              "      <td>0.1</td>\n",
              "      <td>0.1</td>\n",
              "      <td>0.1</td>\n",
              "      <td>0.1</td>\n",
              "      <td>0.58K</td>\n",
              "      <td>0.00%</td>\n",
              "    </tr>\n",
              "    <tr>\n",
              "      <th>4150</th>\n",
              "      <td>Jul 20, 2010</td>\n",
              "      <td>0.1</td>\n",
              "      <td>0.1</td>\n",
              "      <td>0.1</td>\n",
              "      <td>0.1</td>\n",
              "      <td>0.26K</td>\n",
              "      <td>0.00%</td>\n",
              "    </tr>\n",
              "    <tr>\n",
              "      <th>4151</th>\n",
              "      <td>Jul 19, 2010</td>\n",
              "      <td>0.1</td>\n",
              "      <td>0.1</td>\n",
              "      <td>0.1</td>\n",
              "      <td>0.1</td>\n",
              "      <td>0.57K</td>\n",
              "      <td>0.00%</td>\n",
              "    </tr>\n",
              "    <tr>\n",
              "      <th>4152</th>\n",
              "      <td>Jul 18, 2010</td>\n",
              "      <td>0.1</td>\n",
              "      <td>0.0</td>\n",
              "      <td>0.1</td>\n",
              "      <td>0.1</td>\n",
              "      <td>0.08K</td>\n",
              "      <td>0.00%</td>\n",
              "    </tr>\n",
              "  </tbody>\n",
              "</table>\n",
              "<p>4152 rows × 7 columns</p>\n",
              "</div>"
            ],
            "text/plain": [
              "              Date    Price     Open  ...      Low   Volume ChangePercentage\n",
              "1     Nov 28, 2021  54389.3  54758.0  ...  53735.6   37.72K           -0.69%\n",
              "2     Nov 27, 2021  54765.9  53747.2  ...  53654.3   40.71K            1.93%\n",
              "3     Nov 26, 2021  53730.9  58937.3  ...  53533.5  104.03K           -8.83%\n",
              "4     Nov 25, 2021  58935.1  57167.1  ...  57029.8   56.79K            3.08%\n",
              "5     Nov 24, 2021  57171.7  57559.4  ...  55910.6   56.68K           -0.70%\n",
              "...            ...      ...      ...  ...      ...      ...              ...\n",
              "4148  Jul 22, 2010      0.1      0.1  ...      0.1    2.16K            0.00%\n",
              "4149  Jul 21, 2010      0.1      0.1  ...      0.1    0.58K            0.00%\n",
              "4150  Jul 20, 2010      0.1      0.1  ...      0.1    0.26K            0.00%\n",
              "4151  Jul 19, 2010      0.1      0.1  ...      0.1    0.57K            0.00%\n",
              "4152  Jul 18, 2010      0.1      0.0  ...      0.1    0.08K            0.00%\n",
              "\n",
              "[4152 rows x 7 columns]"
            ]
          },
          "metadata": {},
          "execution_count": 104
        }
      ]
    },
    {
      "cell_type": "code",
      "metadata": {
        "colab": {
          "base_uri": "https://localhost:8080/",
          "height": 423
        },
        "id": "Tk2uNCVa9B37",
        "outputId": "c9176cdf-bc52-4f0d-fcff-70311599945b"
      },
      "source": [
        "df = df.assign(Date=pd.to_datetime(df['Date']))\n",
        "df"
      ],
      "execution_count": null,
      "outputs": [
        {
          "output_type": "execute_result",
          "data": {
            "text/html": [
              "<div>\n",
              "<style scoped>\n",
              "    .dataframe tbody tr th:only-of-type {\n",
              "        vertical-align: middle;\n",
              "    }\n",
              "\n",
              "    .dataframe tbody tr th {\n",
              "        vertical-align: top;\n",
              "    }\n",
              "\n",
              "    .dataframe thead th {\n",
              "        text-align: right;\n",
              "    }\n",
              "</style>\n",
              "<table border=\"1\" class=\"dataframe\">\n",
              "  <thead>\n",
              "    <tr style=\"text-align: right;\">\n",
              "      <th></th>\n",
              "      <th>Date</th>\n",
              "      <th>Price</th>\n",
              "      <th>Open</th>\n",
              "      <th>High</th>\n",
              "      <th>Low</th>\n",
              "      <th>Volume</th>\n",
              "      <th>ChangePercentage</th>\n",
              "    </tr>\n",
              "  </thead>\n",
              "  <tbody>\n",
              "    <tr>\n",
              "      <th>1</th>\n",
              "      <td>2021-11-28</td>\n",
              "      <td>54389.3</td>\n",
              "      <td>54758.0</td>\n",
              "      <td>54924.1</td>\n",
              "      <td>53735.6</td>\n",
              "      <td>37.72K</td>\n",
              "      <td>-0.69%</td>\n",
              "    </tr>\n",
              "    <tr>\n",
              "      <th>2</th>\n",
              "      <td>2021-11-27</td>\n",
              "      <td>54765.9</td>\n",
              "      <td>53747.2</td>\n",
              "      <td>55280.3</td>\n",
              "      <td>53654.3</td>\n",
              "      <td>40.71K</td>\n",
              "      <td>1.93%</td>\n",
              "    </tr>\n",
              "    <tr>\n",
              "      <th>3</th>\n",
              "      <td>2021-11-26</td>\n",
              "      <td>53730.9</td>\n",
              "      <td>58937.3</td>\n",
              "      <td>59151.1</td>\n",
              "      <td>53533.5</td>\n",
              "      <td>104.03K</td>\n",
              "      <td>-8.83%</td>\n",
              "    </tr>\n",
              "    <tr>\n",
              "      <th>4</th>\n",
              "      <td>2021-11-25</td>\n",
              "      <td>58935.1</td>\n",
              "      <td>57167.1</td>\n",
              "      <td>59387.3</td>\n",
              "      <td>57029.8</td>\n",
              "      <td>56.79K</td>\n",
              "      <td>3.08%</td>\n",
              "    </tr>\n",
              "    <tr>\n",
              "      <th>5</th>\n",
              "      <td>2021-11-24</td>\n",
              "      <td>57171.7</td>\n",
              "      <td>57559.4</td>\n",
              "      <td>57697.4</td>\n",
              "      <td>55910.6</td>\n",
              "      <td>56.68K</td>\n",
              "      <td>-0.70%</td>\n",
              "    </tr>\n",
              "    <tr>\n",
              "      <th>...</th>\n",
              "      <td>...</td>\n",
              "      <td>...</td>\n",
              "      <td>...</td>\n",
              "      <td>...</td>\n",
              "      <td>...</td>\n",
              "      <td>...</td>\n",
              "      <td>...</td>\n",
              "    </tr>\n",
              "    <tr>\n",
              "      <th>4148</th>\n",
              "      <td>2010-07-22</td>\n",
              "      <td>0.1</td>\n",
              "      <td>0.1</td>\n",
              "      <td>0.1</td>\n",
              "      <td>0.1</td>\n",
              "      <td>2.16K</td>\n",
              "      <td>0.00%</td>\n",
              "    </tr>\n",
              "    <tr>\n",
              "      <th>4149</th>\n",
              "      <td>2010-07-21</td>\n",
              "      <td>0.1</td>\n",
              "      <td>0.1</td>\n",
              "      <td>0.1</td>\n",
              "      <td>0.1</td>\n",
              "      <td>0.58K</td>\n",
              "      <td>0.00%</td>\n",
              "    </tr>\n",
              "    <tr>\n",
              "      <th>4150</th>\n",
              "      <td>2010-07-20</td>\n",
              "      <td>0.1</td>\n",
              "      <td>0.1</td>\n",
              "      <td>0.1</td>\n",
              "      <td>0.1</td>\n",
              "      <td>0.26K</td>\n",
              "      <td>0.00%</td>\n",
              "    </tr>\n",
              "    <tr>\n",
              "      <th>4151</th>\n",
              "      <td>2010-07-19</td>\n",
              "      <td>0.1</td>\n",
              "      <td>0.1</td>\n",
              "      <td>0.1</td>\n",
              "      <td>0.1</td>\n",
              "      <td>0.57K</td>\n",
              "      <td>0.00%</td>\n",
              "    </tr>\n",
              "    <tr>\n",
              "      <th>4152</th>\n",
              "      <td>2010-07-18</td>\n",
              "      <td>0.1</td>\n",
              "      <td>0.0</td>\n",
              "      <td>0.1</td>\n",
              "      <td>0.1</td>\n",
              "      <td>0.08K</td>\n",
              "      <td>0.00%</td>\n",
              "    </tr>\n",
              "  </tbody>\n",
              "</table>\n",
              "<p>4152 rows × 7 columns</p>\n",
              "</div>"
            ],
            "text/plain": [
              "           Date    Price     Open     High      Low   Volume ChangePercentage\n",
              "1    2021-11-28  54389.3  54758.0  54924.1  53735.6   37.72K           -0.69%\n",
              "2    2021-11-27  54765.9  53747.2  55280.3  53654.3   40.71K            1.93%\n",
              "3    2021-11-26  53730.9  58937.3  59151.1  53533.5  104.03K           -8.83%\n",
              "4    2021-11-25  58935.1  57167.1  59387.3  57029.8   56.79K            3.08%\n",
              "5    2021-11-24  57171.7  57559.4  57697.4  55910.6   56.68K           -0.70%\n",
              "...         ...      ...      ...      ...      ...      ...              ...\n",
              "4148 2010-07-22      0.1      0.1      0.1      0.1    2.16K            0.00%\n",
              "4149 2010-07-21      0.1      0.1      0.1      0.1    0.58K            0.00%\n",
              "4150 2010-07-20      0.1      0.1      0.1      0.1    0.26K            0.00%\n",
              "4151 2010-07-19      0.1      0.1      0.1      0.1    0.57K            0.00%\n",
              "4152 2010-07-18      0.1      0.0      0.1      0.1    0.08K            0.00%\n",
              "\n",
              "[4152 rows x 7 columns]"
            ]
          },
          "metadata": {},
          "execution_count": 105
        }
      ]
    },
    {
      "cell_type": "code",
      "metadata": {
        "id": "9ybmlmn3PRg1"
      },
      "source": [
        "df = df.drop(columns=[\"Open\", \"High\", \"Low\", \"Volume\", \"ChangePercentage\"])"
      ],
      "execution_count": null,
      "outputs": []
    },
    {
      "cell_type": "code",
      "metadata": {
        "colab": {
          "base_uri": "https://localhost:8080/",
          "height": 423
        },
        "id": "X8Fjl5vdQB3m",
        "outputId": "804836b2-3182-414c-884d-5001fcf7de83"
      },
      "source": [
        "df"
      ],
      "execution_count": null,
      "outputs": [
        {
          "output_type": "execute_result",
          "data": {
            "text/html": [
              "<div>\n",
              "<style scoped>\n",
              "    .dataframe tbody tr th:only-of-type {\n",
              "        vertical-align: middle;\n",
              "    }\n",
              "\n",
              "    .dataframe tbody tr th {\n",
              "        vertical-align: top;\n",
              "    }\n",
              "\n",
              "    .dataframe thead th {\n",
              "        text-align: right;\n",
              "    }\n",
              "</style>\n",
              "<table border=\"1\" class=\"dataframe\">\n",
              "  <thead>\n",
              "    <tr style=\"text-align: right;\">\n",
              "      <th></th>\n",
              "      <th>Date</th>\n",
              "      <th>Price</th>\n",
              "    </tr>\n",
              "  </thead>\n",
              "  <tbody>\n",
              "    <tr>\n",
              "      <th>1</th>\n",
              "      <td>2021-11-28</td>\n",
              "      <td>54389.3</td>\n",
              "    </tr>\n",
              "    <tr>\n",
              "      <th>2</th>\n",
              "      <td>2021-11-27</td>\n",
              "      <td>54765.9</td>\n",
              "    </tr>\n",
              "    <tr>\n",
              "      <th>3</th>\n",
              "      <td>2021-11-26</td>\n",
              "      <td>53730.9</td>\n",
              "    </tr>\n",
              "    <tr>\n",
              "      <th>4</th>\n",
              "      <td>2021-11-25</td>\n",
              "      <td>58935.1</td>\n",
              "    </tr>\n",
              "    <tr>\n",
              "      <th>5</th>\n",
              "      <td>2021-11-24</td>\n",
              "      <td>57171.7</td>\n",
              "    </tr>\n",
              "    <tr>\n",
              "      <th>...</th>\n",
              "      <td>...</td>\n",
              "      <td>...</td>\n",
              "    </tr>\n",
              "    <tr>\n",
              "      <th>4148</th>\n",
              "      <td>2010-07-22</td>\n",
              "      <td>0.1</td>\n",
              "    </tr>\n",
              "    <tr>\n",
              "      <th>4149</th>\n",
              "      <td>2010-07-21</td>\n",
              "      <td>0.1</td>\n",
              "    </tr>\n",
              "    <tr>\n",
              "      <th>4150</th>\n",
              "      <td>2010-07-20</td>\n",
              "      <td>0.1</td>\n",
              "    </tr>\n",
              "    <tr>\n",
              "      <th>4151</th>\n",
              "      <td>2010-07-19</td>\n",
              "      <td>0.1</td>\n",
              "    </tr>\n",
              "    <tr>\n",
              "      <th>4152</th>\n",
              "      <td>2010-07-18</td>\n",
              "      <td>0.1</td>\n",
              "    </tr>\n",
              "  </tbody>\n",
              "</table>\n",
              "<p>4152 rows × 2 columns</p>\n",
              "</div>"
            ],
            "text/plain": [
              "           Date    Price\n",
              "1    2021-11-28  54389.3\n",
              "2    2021-11-27  54765.9\n",
              "3    2021-11-26  53730.9\n",
              "4    2021-11-25  58935.1\n",
              "5    2021-11-24  57171.7\n",
              "...         ...      ...\n",
              "4148 2010-07-22      0.1\n",
              "4149 2010-07-21      0.1\n",
              "4150 2010-07-20      0.1\n",
              "4151 2010-07-19      0.1\n",
              "4152 2010-07-18      0.1\n",
              "\n",
              "[4152 rows x 2 columns]"
            ]
          },
          "metadata": {},
          "execution_count": 107
        }
      ]
    },
    {
      "cell_type": "code",
      "metadata": {
        "id": "bGNJpPTGQbC6"
      },
      "source": [
        "df =  df.set_index(['Date'])"
      ],
      "execution_count": null,
      "outputs": []
    },
    {
      "cell_type": "code",
      "metadata": {
        "colab": {
          "base_uri": "https://localhost:8080/",
          "height": 455
        },
        "id": "t8PI5Gj2Q61N",
        "outputId": "e3705acb-d62d-4227-d24f-e788f064ad4a"
      },
      "source": [
        "df"
      ],
      "execution_count": null,
      "outputs": [
        {
          "output_type": "execute_result",
          "data": {
            "text/html": [
              "<div>\n",
              "<style scoped>\n",
              "    .dataframe tbody tr th:only-of-type {\n",
              "        vertical-align: middle;\n",
              "    }\n",
              "\n",
              "    .dataframe tbody tr th {\n",
              "        vertical-align: top;\n",
              "    }\n",
              "\n",
              "    .dataframe thead th {\n",
              "        text-align: right;\n",
              "    }\n",
              "</style>\n",
              "<table border=\"1\" class=\"dataframe\">\n",
              "  <thead>\n",
              "    <tr style=\"text-align: right;\">\n",
              "      <th></th>\n",
              "      <th>Price</th>\n",
              "    </tr>\n",
              "    <tr>\n",
              "      <th>Date</th>\n",
              "      <th></th>\n",
              "    </tr>\n",
              "  </thead>\n",
              "  <tbody>\n",
              "    <tr>\n",
              "      <th>2021-11-28</th>\n",
              "      <td>54389.3</td>\n",
              "    </tr>\n",
              "    <tr>\n",
              "      <th>2021-11-27</th>\n",
              "      <td>54765.9</td>\n",
              "    </tr>\n",
              "    <tr>\n",
              "      <th>2021-11-26</th>\n",
              "      <td>53730.9</td>\n",
              "    </tr>\n",
              "    <tr>\n",
              "      <th>2021-11-25</th>\n",
              "      <td>58935.1</td>\n",
              "    </tr>\n",
              "    <tr>\n",
              "      <th>2021-11-24</th>\n",
              "      <td>57171.7</td>\n",
              "    </tr>\n",
              "    <tr>\n",
              "      <th>...</th>\n",
              "      <td>...</td>\n",
              "    </tr>\n",
              "    <tr>\n",
              "      <th>2010-07-22</th>\n",
              "      <td>0.1</td>\n",
              "    </tr>\n",
              "    <tr>\n",
              "      <th>2010-07-21</th>\n",
              "      <td>0.1</td>\n",
              "    </tr>\n",
              "    <tr>\n",
              "      <th>2010-07-20</th>\n",
              "      <td>0.1</td>\n",
              "    </tr>\n",
              "    <tr>\n",
              "      <th>2010-07-19</th>\n",
              "      <td>0.1</td>\n",
              "    </tr>\n",
              "    <tr>\n",
              "      <th>2010-07-18</th>\n",
              "      <td>0.1</td>\n",
              "    </tr>\n",
              "  </tbody>\n",
              "</table>\n",
              "<p>4152 rows × 1 columns</p>\n",
              "</div>"
            ],
            "text/plain": [
              "              Price\n",
              "Date               \n",
              "2021-11-28  54389.3\n",
              "2021-11-27  54765.9\n",
              "2021-11-26  53730.9\n",
              "2021-11-25  58935.1\n",
              "2021-11-24  57171.7\n",
              "...             ...\n",
              "2010-07-22      0.1\n",
              "2010-07-21      0.1\n",
              "2010-07-20      0.1\n",
              "2010-07-19      0.1\n",
              "2010-07-18      0.1\n",
              "\n",
              "[4152 rows x 1 columns]"
            ]
          },
          "metadata": {},
          "execution_count": 109
        }
      ]
    },
    {
      "cell_type": "code",
      "metadata": {
        "colab": {
          "base_uri": "https://localhost:8080/",
          "height": 238
        },
        "id": "Uvqy_7Mg9PiT",
        "outputId": "88de206a-87b4-41ac-fd2a-6f8eff6277a8"
      },
      "source": [
        "import numpy as np\n",
        "# shift moves dates back by 1\n",
        "df_change = df.apply(lambda x: np.log(x) - np.log(x.shift(1)))\n",
        "df_change.head()"
      ],
      "execution_count": null,
      "outputs": [
        {
          "output_type": "execute_result",
          "data": {
            "text/html": [
              "<div>\n",
              "<style scoped>\n",
              "    .dataframe tbody tr th:only-of-type {\n",
              "        vertical-align: middle;\n",
              "    }\n",
              "\n",
              "    .dataframe tbody tr th {\n",
              "        vertical-align: top;\n",
              "    }\n",
              "\n",
              "    .dataframe thead th {\n",
              "        text-align: right;\n",
              "    }\n",
              "</style>\n",
              "<table border=\"1\" class=\"dataframe\">\n",
              "  <thead>\n",
              "    <tr style=\"text-align: right;\">\n",
              "      <th></th>\n",
              "      <th>Price</th>\n",
              "    </tr>\n",
              "    <tr>\n",
              "      <th>Date</th>\n",
              "      <th></th>\n",
              "    </tr>\n",
              "  </thead>\n",
              "  <tbody>\n",
              "    <tr>\n",
              "      <th>2021-11-28</th>\n",
              "      <td>NaN</td>\n",
              "    </tr>\n",
              "    <tr>\n",
              "      <th>2021-11-27</th>\n",
              "      <td>0.006900</td>\n",
              "    </tr>\n",
              "    <tr>\n",
              "      <th>2021-11-26</th>\n",
              "      <td>-0.019079</td>\n",
              "    </tr>\n",
              "    <tr>\n",
              "      <th>2021-11-25</th>\n",
              "      <td>0.092449</td>\n",
              "    </tr>\n",
              "    <tr>\n",
              "      <th>2021-11-24</th>\n",
              "      <td>-0.030378</td>\n",
              "    </tr>\n",
              "  </tbody>\n",
              "</table>\n",
              "</div>"
            ],
            "text/plain": [
              "               Price\n",
              "Date                \n",
              "2021-11-28       NaN\n",
              "2021-11-27  0.006900\n",
              "2021-11-26 -0.019079\n",
              "2021-11-25  0.092449\n",
              "2021-11-24 -0.030378"
            ]
          },
          "metadata": {},
          "execution_count": 110
        }
      ]
    },
    {
      "cell_type": "code",
      "metadata": {
        "colab": {
          "base_uri": "https://localhost:8080/",
          "height": 660
        },
        "id": "0-9bGOlLRfOv",
        "outputId": "9e04accb-2ac6-4892-9792-7baf82ea7fde"
      },
      "source": [
        "df_change[:50].plot(figsize=(15, 10)).axhline(color='black', linewidth=2)"
      ],
      "execution_count": null,
      "outputs": [
        {
          "output_type": "execute_result",
          "data": {
            "text/plain": [
              "<matplotlib.lines.Line2D at 0x7f1b9aab76d0>"
            ]
          },
          "metadata": {},
          "execution_count": 111
        },
        {
          "output_type": "display_data",
          "data": {
            "image/png": "[encoded data removed]",
            "text/plain": [
              "<Figure size 1080x720 with 1 Axes>"
            ]
          },
          "metadata": {
            "needs_background": "light"
          }
        }
      ]
    },
    {
      "cell_type": "code",
      "metadata": {
        "id": "vnl83VKru3Se"
      },
      "source": [
        "import numpy as np\n",
        "from scipy import stats\n",
        "\n",
        "\n",
        "def freedman_diaconis(data, returnas=\"width\"):\n",
        "    \"\"\"\n",
        "    Use Freedman Diaconis rule to compute optimal histogram bin width. \n",
        "    ``returnas`` can be one of \"width\" or \"bins\", indicating whether\n",
        "    the bin width or number of bins should be returned respectively. \n",
        "\n",
        "\n",
        "    Parameters\n",
        "    ----------\n",
        "    data: np.ndarray\n",
        "        One-dimensional array.\n",
        "\n",
        "    returnas: {\"width\", \"bins\"}\n",
        "        If \"width\", return the estimated width for each histogram bin. \n",
        "        If \"bins\", return the number of bins suggested by rule.\n",
        "    \"\"\"\n",
        "    data = np.asarray(data, dtype=np.float_)\n",
        "    IQR  = stats.iqr(data, rng=(25, 75), scale=\"raw\", nan_policy=\"omit\")\n",
        "    N    = data.size\n",
        "    bw   = (2 * IQR) / np.power(N, 1/3)\n",
        "\n",
        "    if returnas==\"width\":\n",
        "        result = bw\n",
        "    else:\n",
        "        datmin, datmax = data.min(), data.max()\n",
        "        datrng = datmax - datmin\n",
        "        result = (int)((datrng / bw) + 1)\n",
        "    return result"
      ],
      "execution_count": null,
      "outputs": []
    },
    {
      "cell_type": "markdown",
      "metadata": {
        "id": "QffqyCWK64gF"
      },
      "source": [
        "BINS FREEDMAN RULE"
      ]
    },
    {
      "cell_type": "code",
      "metadata": {
        "id": "WPnzQCcSwDk-"
      },
      "source": [
        "Bin = freedman_diaconis(data=df['Price'], returnas=\"bins\")"
      ],
      "execution_count": null,
      "outputs": []
    },
    {
      "cell_type": "code",
      "metadata": {
        "colab": {
          "base_uri": "https://localhost:8080/",
          "height": 391
        },
        "id": "ENXls9HFRp3l",
        "outputId": "f1acab9b-27df-4747-b03b-91034e562c51"
      },
      "source": [
        "from scipy import stats\n",
        "from scipy.stats import lognorm\n",
        "import matplotlib.pyplot as plt\n",
        "\n",
        "fig, ax = plt.subplots(figsize=(15, 6))\n",
        "values = df['Price']\n",
        "shape, loc, scale = stats.lognorm.fit(values) \n",
        "x = np.linspace(values.min(), values.max(), len(values))\n",
        "pdf = stats.lognorm.pdf(x, shape, loc=loc, scale=scale) \n",
        "label = 'mean=%.4f, std=%.4f, shape=%.4f' % (loc, scale, shape)\n",
        "ax.hist(values, bins= Bin, density=True)\n",
        "ax.plot(x, pdf, 'r-', lw=2, label=label)\n",
        "# ax.legend(loc='best')"
      ],
      "execution_count": null,
      "outputs": [
        {
          "output_type": "execute_result",
          "data": {
            "text/plain": [
              "[<matplotlib.lines.Line2D at 0x7f1b9a4f1390>]"
            ]
          },
          "metadata": {},
          "execution_count": 114
        },
        {
          "output_type": "display_data",
          "data": {
            "image/png": "[encoded data removed]",
            "text/plain": [
              "<Figure size 1080x432 with 1 Axes>"
            ]
          },
          "metadata": {
            "needs_background": "light"
          }
        }
      ]
    },
    {
      "cell_type": "code",
      "metadata": {
        "id": "HoOD1f1t7Or8",
        "colab": {
          "base_uri": "https://localhost:8080/",
          "height": 378
        },
        "outputId": "796e44e4-aefd-4257-8d5d-db34a871d8a6"
      },
      "source": [
        "from scipy import stats\n",
        "from scipy.stats import lognorm\n",
        "import matplotlib.pyplot as plt\n",
        "\n",
        "fig, ax = plt.subplots(figsize=(15, 6))\n",
        "values = df['Price']\n",
        "shape, loc, scale = stats.lognorm.fit(values) \n",
        "x = np.linspace(values.min(), values.max(), len(values))\n",
        "pdf = stats.lognorm.cdf(x, shape, loc=loc, scale=scale) \n",
        "label = 'mean=%.4f, std=%.4f, shape=%.4f' % (loc, scale, shape)\n",
        "# ax.hist(values, bins= Bin, density=True)\n",
        "ax.plot(x, pdf, 'r-', lw=2, label=label)\n",
        "# ax.legend(loc='best')\n",
        "ax.set_xscale('log')\n",
        "ax.set_yscale('log')"
      ],
      "execution_count": null,
      "outputs": [
        {
          "output_type": "display_data",
          "data": {
            "image/png": "[encoded data removed]",
            "text/plain": [
              "<Figure size 1080x432 with 1 Axes>"
            ]
          },
          "metadata": {
            "needs_background": "light"
          }
        }
      ]
    },
    {
      "cell_type": "code",
      "metadata": {
        "id": "1HtwlpZExI5-",
        "colab": {
          "base_uri": "https://localhost:8080/",
          "height": 378
        },
        "outputId": "aad3c844-d633-4fcb-a3b4-2ef2530ba88a"
      },
      "source": [
        "from scipy import stats\n",
        "from scipy.stats import lognorm\n",
        "import matplotlib.pyplot as plt\n",
        "\n",
        "fig, ax = plt.subplots(figsize=(15, 6))\n",
        "values = df['Price']\n",
        "shape, loc, scale = stats.lognorm.fit(values) \n",
        "x = np.linspace(values.min(), values.max(), len(values))\n",
        "pdf = 1- (stats.lognorm.cdf(x, shape, loc=loc, scale=scale) )\n",
        "label = 'mean=%.4f, std=%.4f, shape=%.4f' % (loc, scale, shape)\n",
        "# ax.hist(values, bins=Bin, density=True)\n",
        "ax.plot(x, pdf, 'r-', lw=2, label=label)\n",
        "# ax.legend(loc='best')\n",
        "ax.set_xlim(x.min())\n",
        "ax.set_xscale('log')\n",
        "ax.set_yscale('log')"
      ],
      "execution_count": null,
      "outputs": [
        {
          "output_type": "display_data",
          "data": {
            "image/png": "[encoded data removed]",
            "text/plain": [
              "<Figure size 1080x432 with 1 Axes>"
            ]
          },
          "metadata": {
            "needs_background": "light"
          }
        }
      ]
    },
    {
      "cell_type": "code",
      "metadata": {
        "id": "nPeU8UhPwWPm"
      },
      "source": [
        "Bin2 = freedman_diaconis(data=df_change['Price'][1:], returnas=\"bins\")"
      ],
      "execution_count": null,
      "outputs": []
    },
    {
      "cell_type": "markdown",
      "metadata": {
        "id": "2Z5U-t2Y7trV"
      },
      "source": [
        "PDF"
      ]
    },
    {
      "cell_type": "code",
      "metadata": {
        "colab": {
          "base_uri": "https://localhost:8080/",
          "height": 392
        },
        "id": "LBqiruEGS5Rh",
        "outputId": "b6ab9ad4-a80a-4bf7-d371-25ad02953321"
      },
      "source": [
        "import pandas as pd\n",
        "import numpy as np\n",
        "import scipy.stats as stats\n",
        "import matplotlib.pyplot as plt\n",
        "\n",
        "values = df_change['Price'][1:]  # skip first NA value\n",
        "x = np.linspace(values.min(), values.max(), len(values))\n",
        "# x = values\n",
        "shape, loc, scale = stats.lognorm.fit(values)\n",
        "param_density = stats.lognorm.pdf(x,shape,  loc=loc, scale=scale)\n",
        "label = 'mean=%.4f, std=%.4f, shape=%.4f' % (loc, scale, shape)\n",
        "fig, ax = plt.subplots(figsize=(10, 6))\n",
        "ax.hist(values, bins=Bin2, density=True)\n",
        "ax.plot(x, param_density, 'r-', label=label)\n",
        "# ax.legend(loc='best')\n",
        "# ax.set_xscale('log')\n",
        "# ax.set_yscale('log')"
      ],
      "execution_count": null,
      "outputs": [
        {
          "output_type": "execute_result",
          "data": {
            "text/plain": [
              "[<matplotlib.lines.Line2D at 0x7f1b99cd3550>]"
            ]
          },
          "metadata": {},
          "execution_count": 118
        },
        {
          "output_type": "display_data",
          "data": {
            "image/png": "[encoded data removed]",
            "text/plain": [
              "<Figure size 720x432 with 1 Axes>"
            ]
          },
          "metadata": {
            "needs_background": "light"
          }
        }
      ]
    },
    {
      "cell_type": "markdown",
      "metadata": {
        "id": "DiM6OgY38XQN"
      },
      "source": [
        "Loglogreturn CDF"
      ]
    },
    {
      "cell_type": "code",
      "metadata": {
        "id": "JkGC-mZj8G7F",
        "colab": {
          "base_uri": "https://localhost:8080/",
          "height": 378
        },
        "outputId": "0db72d56-b4a5-4df9-f34a-15916c19fddb"
      },
      "source": [
        "import pandas as pd\n",
        "import numpy as np\n",
        "import scipy.stats as stats\n",
        "import matplotlib.pyplot as plt\n",
        "\n",
        "values = df_change['Price'][1:]  # skip first NA value\n",
        "x = np.linspace(values.min(), values.max(), len(values))\n",
        "shape, loc, scale = stats.lognorm.fit(values)\n",
        "param_density = stats.lognorm.cdf(x, shape,  loc=loc, scale=scale)\n",
        "label = 'mean=%.4f, std=%.4f, shape=%.4f' % (loc, scale, shape)\n",
        "fig, ax = plt.subplots(figsize=(10, 6))\n",
        "# ax.hist(values, bins=Bin2, density=True)\n",
        "ax.plot(x, param_density, 'r-', label=label)\n",
        "# ax.legend(loc='best')\n",
        "ax.set_xscale('log')\n",
        "ax.set_yscale('log')"
      ],
      "execution_count": null,
      "outputs": [
        {
          "output_type": "display_data",
          "data": {
            "image/png": "[encoded data removed]",
            "text/plain": [
              "<Figure size 720x432 with 1 Axes>"
            ]
          },
          "metadata": {
            "needs_background": "light"
          }
        }
      ]
    },
    {
      "cell_type": "markdown",
      "metadata": {
        "id": "SQPPWuCz8yj2"
      },
      "source": [
        "Loglogreturn CCDF"
      ]
    },
    {
      "cell_type": "code",
      "metadata": {
        "id": "1Mnf80SqueRZ",
        "colab": {
          "base_uri": "https://localhost:8080/",
          "height": 487
        },
        "outputId": "c3850f3d-9d0d-4c39-e1a5-b34d8dbe1afd"
      },
      "source": [
        "import pandas as pd\n",
        "import numpy as np\n",
        "import scipy.stats as stats\n",
        "import matplotlib.pyplot as plt\n",
        "\n",
        "values = df_change['Price'][1:]  # skip first NA value\n",
        "x = np.linspace(values.min(), values.max(), len(values))\n",
        "shape, loc, scale = stats.lognorm.fit(values)\n",
        "param_density = 1 - (stats.lognorm.cdf(x,shape,  loc=loc, scale=scale))\n",
        "label = 'mean=%.4f, std=%.4f, shape=%.4f' % (loc, scale, shape)\n",
        "fig, ax = plt.subplots(figsize=(10, 8))\n",
        "# ax.hist(values, bins=Bin2, density=True)\n",
        "plt.plot(x, param_density, 'r-', label=label)\n",
        "# ax.legend(loc='best')\n",
        "plt.xscale('log')\n",
        "plt.yscale('log')"
      ],
      "execution_count": null,
      "outputs": [
        {
          "output_type": "display_data",
          "data": {
            "image/png": "[encoded data removed]",
            "text/plain": [
              "<Figure size 720x576 with 1 Axes>"
            ]
          },
          "metadata": {
            "needs_background": "light"
          }
        }
      ]
    },
    {
      "cell_type": "code",
      "metadata": {
        "id": "m9dppTfm9pqC"
      },
      "source": [
        "# import pandas as pd\n",
        "# import numpy as np\n",
        "# import scipy.stats as stats\n",
        "# import matplotlib.pyplot as plt\n",
        "# from scipy.stats import powerlaw\n",
        "\n",
        "# values = df_change['Price'][1:]  # skip first NA value\n",
        "# x = np.linspace(values.min(), values.max(), len(values))\n",
        "# shape, loc, scale = stats.powerlaw.fit(values)\n",
        "# param_density = 1-(stats.powerlaw.cdf(x,shape,  loc=loc, scale=scale))\n",
        "# label = 'mean=%.4f, std=%.4f, shape=%.4f' % (loc, scale, shape)\n",
        "# fig, ax = plt.subplots(figsize=(10, 8))\n",
        "# # ax.hist(values, bins=Bin2, density=True)\n",
        "# plt.plot(x, param_density,'r-', label=label)\n",
        "# # ax.legend(loc='best')\n",
        "# plt.xscale('log')\n",
        "# plt.yscale('log')"
      ],
      "execution_count": null,
      "outputs": []
    },
    {
      "cell_type": "code",
      "metadata": {
        "colab": {
          "base_uri": "https://localhost:8080/"
        },
        "id": "d3wSBGHeFehU",
        "outputId": "e32e30b8-40ff-49a8-9961-b8e6f8168a42"
      },
      "source": [
        "!pip install powerlaw"
      ],
      "execution_count": null,
      "outputs": [
        {
          "output_type": "stream",
          "name": "stdout",
          "text": [
            "Requirement already satisfied: powerlaw in /usr/local/lib/python3.7/dist-packages (1.5)\n",
            "Requirement already satisfied: numpy in /usr/local/lib/python3.7/dist-packages (from powerlaw) (1.19.5)\n",
            "Requirement already satisfied: mpmath in /usr/local/lib/python3.7/dist-packages (from powerlaw) (1.2.1)\n",
            "Requirement already satisfied: scipy in /usr/local/lib/python3.7/dist-packages (from powerlaw) (1.4.1)\n",
            "Requirement already satisfied: matplotlib in /usr/local/lib/python3.7/dist-packages (from powerlaw) (3.2.2)\n",
            "Requirement already satisfied: kiwisolver>=1.0.1 in /usr/local/lib/python3.7/dist-packages (from matplotlib->powerlaw) (1.3.2)\n",
            "Requirement already satisfied: cycler>=0.10 in /usr/local/lib/python3.7/dist-packages (from matplotlib->powerlaw) (0.11.0)\n",
            "Requirement already satisfied: pyparsing!=2.0.4,!=2.1.2,!=2.1.6,>=2.0.1 in /usr/local/lib/python3.7/dist-packages (from matplotlib->powerlaw) (3.0.6)\n",
            "Requirement already satisfied: python-dateutil>=2.1 in /usr/local/lib/python3.7/dist-packages (from matplotlib->powerlaw) (2.8.2)\n",
            "Requirement already satisfied: six>=1.5 in /usr/local/lib/python3.7/dist-packages (from python-dateutil>=2.1->matplotlib->powerlaw) (1.15.0)\n"
          ]
        }
      ]
    },
    {
      "cell_type": "code",
      "metadata": {
        "id": "wn15kFUk5SWz"
      },
      "source": [
        "# import powerlaw\n",
        "# # data can be list or numpy array\n",
        "# values = df_change['Price'][1:] # skip first NA value\n",
        "# values = abs(values)\n",
        "# # x = np.linspace(values.min(), values.max(), len(values))\n",
        "# fit = powerlaw.Fit(values, xmin=None, xmax=None, estimate_discrete=False)\n",
        "# # print(fit.power_law.alpha)\n",
        "# # print(fit.power_law.xmin)\n",
        "# # R, p = fit.distribution_compare('power_law', 'lognormal')\n",
        "# fit.plot_ccdf(original_data=True)\n",
        "# # fit.D/"
      ],
      "execution_count": null,
      "outputs": []
    },
    {
      "cell_type": "code",
      "metadata": {
        "colab": {
          "base_uri": "https://localhost:8080/"
        },
        "id": "zP_x9PGckPRQ",
        "outputId": "cfa5270f-98b3-4dd9-fcf7-f94164203def"
      },
      "source": [
        "values = df_change['Price'][1:] # skip first NA value\n",
        "values = abs(values)\n",
        "print(values)"
      ],
      "execution_count": null,
      "outputs": [
        {
          "output_type": "stream",
          "name": "stdout",
          "text": [
            "Date\n",
            "2021-11-27    0.006900\n",
            "2021-11-26    0.019079\n",
            "2021-11-25    0.092449\n",
            "2021-11-24    0.030378\n",
            "2021-11-23    0.006998\n",
            "                ...   \n",
            "2010-07-22    0.000000\n",
            "2010-07-21    0.000000\n",
            "2010-07-20    0.000000\n",
            "2010-07-19    0.000000\n",
            "2010-07-18    0.000000\n",
            "Name: Price, Length: 4151, dtype: float64\n"
          ]
        }
      ]
    },
    {
      "cell_type": "code",
      "metadata": {
        "id": "ce6gdC2B97rf",
        "colab": {
          "base_uri": "https://localhost:8080/"
        },
        "outputId": "65dd4b1a-fa7f-4d68-9794-139535e8a269"
      },
      "source": [
        "import powerlaw\n",
        "# data can be list or numpy array\n",
        "values = df_change['Price'][1:] # skip first NA value\n",
        "values = abs(values)\n",
        "# x = np.linspace(values.min(), values.max(), len(values))\n",
        "fit = powerlaw.Fit(values, xmin=None, xmax=None, estimate_discrete=False)\n",
        "print(fit.power_law.alpha)\n",
        "print(fit.power_law.xmin)\n",
        "# R, p = fit.distribution_compare('power_law', 'lognormal')\n",
        "# fit.plot_ccdf(original_data=True)\n",
        "# fit.D/"
      ],
      "execution_count": null,
      "outputs": [
        {
          "output_type": "stream",
          "name": "stdout",
          "text": [
            "Calculating best minimal value for power law fit\n",
            "xmin progress: 00%\rxmin progress: 00%\rxmin progress: 00%\rxmin progress: 00%\rxmin progress: 00%\rxmin progress: 00%\rxmin progress: 00%\rxmin progress: 00%\rxmin progress: 00%\rxmin progress: 00%\rxmin progress: 00%\rxmin progress: 00%\rxmin progress: 00%\rxmin progress: 00%\rxmin progress: 00%\rxmin progress: 00%\rxmin progress: 00%\rxmin progress: 00%\rxmin progress: 00%\rxmin progress: 00%\rxmin progress: 00%\rxmin progress: 00%\rxmin progress: 00%\rxmin progress: 00%\rxmin progress: 00%\rxmin progress: 00%\rxmin progress: 00%\rxmin progress: 00%\rxmin progress: 00%\rxmin progress: 00%\rxmin progress: 00%\rxmin progress: 00%\rxmin progress: 00%\rxmin progress: 00%\rxmin progress: 00%\rxmin progress: 01%\rxmin progress: 01%\rxmin progress: 01%\rxmin progress: 01%\rxmin progress: 01%\rxmin progress: 01%\rxmin progress: 01%\rxmin progress: 01%\rxmin progress: 01%\rxmin progress: 01%\rxmin progress: 01%\rxmin progress: 01%\rxmin progress: 01%\rxmin progress: 01%\rxmin progress: 01%\rxmin progress: 01%\rxmin progress: 01%\rxmin progress: 01%\rxmin progress: 01%\rxmin progress: 01%\rxmin progress: 01%\rxmin progress: 01%\rxmin progress: 01%\rxmin progress: 01%\rxmin progress: 01%\rxmin progress: 01%\rxmin progress: 01%\rxmin progress: 01%\rxmin progress: 01%\rxmin progress: 01%\rxmin progress: 01%\rxmin progress: 01%\rxmin progress: 01%\rxmin progress: 01%\rxmin progress: 01%\rxmin progress: 02%\rxmin progress: 02%\rxmin progress: 02%\rxmin progress: 02%\rxmin progress: 02%\rxmin progress: 02%\rxmin progress: 02%\rxmin progress: 02%\rxmin progress: 02%\rxmin progress: 02%\rxmin progress: 02%\rxmin progress: 02%\rxmin progress: 02%\rxmin progress: 02%\rxmin progress: 02%\rxmin progress: 02%\rxmin progress: 02%\r"
          ]
        },
        {
          "output_type": "stream",
          "name": "stderr",
          "text": [
            "Values less than or equal to 0 in data. Throwing out 0 or negative values\n"
          ]
        },
        {
          "output_type": "stream",
          "name": "stdout",
          "text": [
            "3.013783126543936\n",
            "0.08425756498514758\n"
          ]
        }
      ]
    },
    {
      "cell_type": "code",
      "metadata": {
        "id": "Xjb5BXhsmntv"
      },
      "source": [
        "values = df_change['Price'][1:]"
      ],
      "execution_count": null,
      "outputs": []
    },
    {
      "cell_type": "code",
      "metadata": {
        "colab": {
          "base_uri": "https://localhost:8080/"
        },
        "id": "2mMi1tyeHNAC",
        "outputId": "3f48caa1-cf0e-4801-9078-4a361bdb287c"
      },
      "source": [
        "df_change['Price'][1]"
      ],
      "execution_count": null,
      "outputs": [
        {
          "output_type": "execute_result",
          "data": {
            "text/plain": [
              "0.006900294155233411"
            ]
          },
          "metadata": {},
          "execution_count": 127
        }
      ]
    },
    {
      "cell_type": "code",
      "metadata": {
        "colab": {
          "base_uri": "https://localhost:8080/"
        },
        "id": "M14iP_3rJCrd",
        "outputId": "6463cac4-21b1-44a3-f925-07d0dc4921ad"
      },
      "source": [
        "values"
      ],
      "execution_count": null,
      "outputs": [
        {
          "output_type": "execute_result",
          "data": {
            "text/plain": [
              "Date\n",
              "2021-11-27    0.006900\n",
              "2021-11-26   -0.019079\n",
              "2021-11-25    0.092449\n",
              "2021-11-24   -0.030378\n",
              "2021-11-23    0.006998\n",
              "                ...   \n",
              "2010-07-22    0.000000\n",
              "2010-07-21    0.000000\n",
              "2010-07-20    0.000000\n",
              "2010-07-19    0.000000\n",
              "2010-07-18    0.000000\n",
              "Name: Price, Length: 4151, dtype: float64"
            ]
          },
          "metadata": {},
          "execution_count": 128
        }
      ]
    },
    {
      "cell_type": "code",
      "metadata": {
        "id": "vmaUC1RSIcc7"
      },
      "source": [
        "A=[]\n",
        "B=[]\n",
        "# values[1]\n",
        "for i in values:\n",
        "  if(i>=0.00):\n",
        "    A.append(i)\n",
        "  else:\n",
        "    B.append(-i)"
      ],
      "execution_count": null,
      "outputs": []
    },
    {
      "cell_type": "code",
      "metadata": {
        "id": "4ie7e_k6IyH0"
      },
      "source": [
        "A"
      ],
      "execution_count": null,
      "outputs": []
    },
    {
      "cell_type": "code",
      "metadata": {
        "id": "FWlBYlfuIylt"
      },
      "source": [
        "B"
      ],
      "execution_count": null,
      "outputs": []
    },
    {
      "cell_type": "code",
      "metadata": {
        "colab": {
          "base_uri": "https://localhost:8080/"
        },
        "id": "LrsmBexdJP4_",
        "outputId": "f6dfb608-e98d-4fae-99ab-8d2c2bdb5279"
      },
      "source": [
        "import powerlaw\n",
        "# data can be list or numpy array\n",
        "values = A # skip first NA value\n",
        "# values = abs(values)\n",
        "# x = np.linspace(values.min(), values.max(), len(values))\n",
        "fit = powerlaw.Fit(values, xmin=None, xmax=None, estimate_discrete=False)\n",
        "print(fit.power_law.alpha)\n",
        "# print(fit.power_law.xmin)\n",
        "# R, p = fit.distribution_compare('power_law', 'lognormal')\n",
        "# fit.plot_ccdf(original_data=True)\n",
        "# fit.D/"
      ],
      "execution_count": null,
      "outputs": [
        {
          "output_type": "stream",
          "name": "stderr",
          "text": [
            "Values less than or equal to 0 in data. Throwing out 0 or negative values\n"
          ]
        },
        {
          "output_type": "stream",
          "name": "stdout",
          "text": [
            "Calculating best minimal value for power law fit\n",
            "2.9649901589101444\n"
          ]
        }
      ]
    },
    {
      "cell_type": "code",
      "metadata": {
        "colab": {
          "base_uri": "https://localhost:8080/"
        },
        "id": "MdfCF8yZJUvP",
        "outputId": "8beacb48-e112-48e6-c51c-41d5c9f89454"
      },
      "source": [
        "import powerlaw\n",
        "# data can be list or numpy array\n",
        "values = B # skip first NA value\n",
        "\n",
        "# x = np.linspace(values.min(), values.max(), len(values))\n",
        "fit = powerlaw.Fit(values, xmin=None, xmax=None, estimate_discrete=False)\n",
        "print(fit.power_law.alpha)\n",
        "# print(fit.power_law.xmin)\n",
        "# R, p = fit.distribution_compare('power_law', 'lognormal')\n",
        "# fit.plot_ccdf(original_data=True)\n",
        "# fit.D/"
      ],
      "execution_count": null,
      "outputs": [
        {
          "output_type": "stream",
          "name": "stdout",
          "text": [
            "Calculating best minimal value for power law fit\n",
            "3.090961783192781\n"
          ]
        }
      ]
    }
  ]
}